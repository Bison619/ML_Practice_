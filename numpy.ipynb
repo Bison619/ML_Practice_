{
 "cells": [
  {
   "cell_type": "markdown",
   "id": "093bacfc-3bae-4d66-a1ac-44c969c0df05",
   "metadata": {},
   "source": [
    "<h1>Practice for Numpy Lib</h1>"
   ]
  },
  {
   "cell_type": "code",
   "execution_count": 3,
   "id": "c18e70bb-0f8c-463a-8c62-7e01c94b34f4",
   "metadata": {},
   "outputs": [],
   "source": [
    "import numpy as np"
   ]
  },
  {
   "cell_type": "markdown",
   "id": "21d3bc58-e801-4a6f-9211-ba0e7a172879",
   "metadata": {},
   "source": [
    "<h3>Doing simple code run</h3>"
   ]
  },
  {
   "cell_type": "code",
   "execution_count": 4,
   "id": "dd8bd7cf-28dc-4322-8e3e-22d9fbc52fbb",
   "metadata": {},
   "outputs": [
    {
     "data": {
      "text/plain": [
       "array([1., 1., 1., 1., 1.])"
      ]
     },
     "execution_count": 4,
     "metadata": {},
     "output_type": "execute_result"
    }
   ],
   "source": [
    "a = np.array([1,1,1,1,1])\n",
    "b = np.array(a/2)\n",
    "np.ones(5)"
   ]
  },
  {
   "cell_type": "code",
   "execution_count": 5,
   "id": "c74c6547-7218-476a-ac3e-2444127fb3ad",
   "metadata": {},
   "outputs": [
    {
     "data": {
      "text/plain": [
       "7.5"
      ]
     },
     "execution_count": 5,
     "metadata": {},
     "output_type": "execute_result"
    }
   ],
   "source": [
    "np.sum(a+b)"
   ]
  },
  {
   "cell_type": "code",
   "execution_count": 6,
   "id": "c99964ad-4f2e-4a80-bc2d-97f7ffae9288",
   "metadata": {},
   "outputs": [
    {
     "data": {
      "text/plain": [
       "array([5, 7, 9])"
      ]
     },
     "execution_count": 6,
     "metadata": {},
     "output_type": "execute_result"
    }
   ],
   "source": [
    "np.arange(5,10,2)"
   ]
  },
  {
   "cell_type": "code",
   "execution_count": 7,
   "id": "1489c647-ef2b-4f80-b0d3-df1119de3289",
   "metadata": {},
   "outputs": [
    {
     "data": {
      "text/plain": [
       "array([ 0.        ,  2.22222222,  4.44444444,  6.66666667,  8.88888889,\n",
       "       11.11111111, 13.33333333, 15.55555556, 17.77777778, 20.        ])"
      ]
     },
     "execution_count": 7,
     "metadata": {},
     "output_type": "execute_result"
    }
   ],
   "source": [
    "np.linspace(0,20,num=10)"
   ]
  },
  {
   "cell_type": "code",
   "execution_count": 8,
   "id": "c45ffc41-d79e-4e5b-b7bc-d9fd7152a768",
   "metadata": {},
   "outputs": [
    {
     "data": {
      "text/plain": [
       "array([ 1.32195077e-311,  0.00000000e+000, -4.94065646e-324])"
      ]
     },
     "execution_count": 8,
     "metadata": {},
     "output_type": "execute_result"
    }
   ],
   "source": [
    "np.empty(3)"
   ]
  },
  {
   "cell_type": "markdown",
   "id": "7552f4a1-64fe-4a06-9b57-e8d2c432a80e",
   "metadata": {},
   "source": [
    "<h2 style=\"color: red; font-weight: bold;\">Important</h2>"
   ]
  },
  {
   "cell_type": "markdown",
   "id": "abdd5c4b-b1e1-4cc2-aca0-bda70d1aa280",
   "metadata": {},
   "source": [
    "<h3 style=\"color: red;\">creating number from np.arange start normal but the end is not included</h3>\n",
    "<h3 style=\"color: red;\">where as in slicing as below in i variable the slicing excludes the first letter</h3>"
   ]
  },
  {
   "cell_type": "code",
   "execution_count": 88,
   "id": "c7c498ff-2d12-4582-bcb3-b1a9a8399611",
   "metadata": {},
   "outputs": [
    {
     "name": "stdout",
     "output_type": "stream",
     "text": [
      "[1 2 3 4 5 6 7 8 9]\n"
     ]
    }
   ],
   "source": [
    "i = np.arange(1,10)\n",
    "print(i)"
   ]
  },
  {
   "cell_type": "code",
   "execution_count": 89,
   "id": "738ff7d5-30de-4877-8316-a55149892295",
   "metadata": {},
   "outputs": [
    {
     "data": {
      "text/plain": [
       "array([2, 3, 4, 5])"
      ]
     },
     "execution_count": 89,
     "metadata": {},
     "output_type": "execute_result"
    }
   ],
   "source": [
    "i[1:5]"
   ]
  },
  {
   "cell_type": "markdown",
   "id": "ce1708c7-9120-421b-b8a4-a6f8d1de81e7",
   "metadata": {},
   "source": [
    "<h3>Sorting out the array</h3>"
   ]
  },
  {
   "cell_type": "code",
   "execution_count": 9,
   "id": "429a8785-ec79-43ba-8bf2-fbc42b3bba9c",
   "metadata": {},
   "outputs": [
    {
     "data": {
      "text/plain": [
       "array([  2,   3,   4,   6,  23,  34,  46,  47,  52,  52,  54,  57, 235,\n",
       "       235, 326, 342, 345, 683])"
      ]
     },
     "execution_count": 9,
     "metadata": {},
     "output_type": "execute_result"
    }
   ],
   "source": [
    "c = np.array([2,34,52,326,46,345,23,235,6,57,683,54,52,342,4,235,47,3])\n",
    "np.sort(c)"
   ]
  },
  {
   "cell_type": "markdown",
   "id": "f1e21c1c-07eb-4e28-ae18-8f628f60634e",
   "metadata": {},
   "source": [
    "<h3>Reshaping the array</h3>"
   ]
  },
  {
   "cell_type": "code",
   "execution_count": 12,
   "id": "a68869f5-ca9b-4e2e-9b4f-776f8193db79",
   "metadata": {},
   "outputs": [
    {
     "name": "stdout",
     "output_type": "stream",
     "text": [
      "[0 1 2 3 4 5]\n"
     ]
    }
   ],
   "source": [
    "q = np.arange(6)\n",
    "print(q)"
   ]
  },
  {
   "cell_type": "code",
   "execution_count": 14,
   "id": "053bb592-2bd3-48dc-9d95-31f13100d645",
   "metadata": {},
   "outputs": [
    {
     "name": "stdout",
     "output_type": "stream",
     "text": [
      "[[0 1 2]\n",
      " [3 4 5]]\n"
     ]
    }
   ],
   "source": [
    "w = q.reshape((2,3))\n",
    "print(w)"
   ]
  },
  {
   "cell_type": "code",
   "execution_count": 38,
   "id": "ed5349f9-a49d-4550-b5e3-6cb5a79e82f9",
   "metadata": {},
   "outputs": [
    {
     "name": "stdout",
     "output_type": "stream",
     "text": [
      "[[ 6  7  8]\n",
      " [ 9 10 11]]\n"
     ]
    }
   ],
   "source": [
    "e = np.arange(6,12).reshape((2,3))\n",
    "print (e)"
   ]
  },
  {
   "cell_type": "code",
   "execution_count": 28,
   "id": "e3b86114-1b35-4f47-beef-ed5841997c13",
   "metadata": {},
   "outputs": [
    {
     "data": {
      "text/plain": [
       "(2, 3)"
      ]
     },
     "execution_count": 28,
     "metadata": {},
     "output_type": "execute_result"
    }
   ],
   "source": [
    "w.shape"
   ]
  },
  {
   "cell_type": "code",
   "execution_count": 33,
   "id": "bde8deb0-41c9-4ac4-bf93-a2bc2ed89660",
   "metadata": {},
   "outputs": [
    {
     "data": {
      "text/plain": [
       "(2, 3)"
      ]
     },
     "execution_count": 33,
     "metadata": {},
     "output_type": "execute_result"
    }
   ],
   "source": [
    "e.shape"
   ]
  },
  {
   "cell_type": "markdown",
   "id": "1bc05227-900a-4657-b53c-eae10b9803a1",
   "metadata": {},
   "source": [
    "<h3>Concatenating two arrays</h3>"
   ]
  },
  {
   "cell_type": "code",
   "execution_count": 39,
   "id": "4003326a-edf7-4be2-811f-1d1f55e666e0",
   "metadata": {},
   "outputs": [
    {
     "data": {
      "text/plain": [
       "array([[ 0,  1,  2],\n",
       "       [ 3,  4,  5],\n",
       "       [ 6,  7,  8],\n",
       "       [ 9, 10, 11]])"
      ]
     },
     "execution_count": 39,
     "metadata": {},
     "output_type": "execute_result"
    }
   ],
   "source": [
    "np.concatenate((w,e))"
   ]
  },
  {
   "cell_type": "code",
   "execution_count": 42,
   "id": "16498c0d-83e7-4c47-906f-df2ddfd2c692",
   "metadata": {},
   "outputs": [
    {
     "data": {
      "text/plain": [
       "array([[ 0,  1,  2,  6,  7,  8],\n",
       "       [ 3,  4,  5,  9, 10, 11]])"
      ]
     },
     "execution_count": 42,
     "metadata": {},
     "output_type": "execute_result"
    }
   ],
   "source": [
    "np.concatenate((w,e), axis=1 )"
   ]
  },
  {
   "cell_type": "code",
   "execution_count": 45,
   "id": "9ce4f0e3-0653-4c83-b302-1e17bdbf4c3a",
   "metadata": {},
   "outputs": [
    {
     "data": {
      "text/plain": [
       "array([[ 0,  1,  2],\n",
       "       [ 3,  4,  5],\n",
       "       [ 6,  7,  8],\n",
       "       [ 9, 10, 11]])"
      ]
     },
     "execution_count": 45,
     "metadata": {},
     "output_type": "execute_result"
    }
   ],
   "source": [
    "np.concatenate((w,e), axis=0 )"
   ]
  },
  {
   "cell_type": "markdown",
   "id": "839c0f3a-acbb-43d7-88a2-f1ef33910029",
   "metadata": {},
   "source": [
    "<h3>Sorting for the int64 value as random.rand always in float</h3>"
   ]
  },
  {
   "cell_type": "code",
   "execution_count": 64,
   "id": "923303a8-af1f-4fb4-b43f-39c61f25106c",
   "metadata": {},
   "outputs": [
    {
     "name": "stdout",
     "output_type": "stream",
     "text": [
      "[50 27 68 72 63 80 86 60 30 65 97 18  6 48  7]\n"
     ]
    }
   ],
   "source": [
    "o = np.random.rand(15) * 100\n",
    "int_64 = o.astype(np.int64)\n",
    "print (int_64)"
   ]
  },
  {
   "cell_type": "code",
   "execution_count": 65,
   "id": "22cfe5dc-dd51-4b9f-8e5a-e852a06eb2b1",
   "metadata": {},
   "outputs": [
    {
     "name": "stdout",
     "output_type": "stream",
     "text": [
      "[ 6  7 18 27 30 48 50 60 63 65 68 72 80 86 97]\n"
     ]
    }
   ],
   "source": [
    "int_64.sort()\n",
    "print (int_64)"
   ]
  },
  {
   "cell_type": "markdown",
   "id": "c9397079-2ebb-4d28-8e9c-315148c746e6",
   "metadata": {},
   "source": [
    "<h3>Adding axis to the 1d to make 2d</h3>"
   ]
  },
  {
   "cell_type": "code",
   "execution_count": 69,
   "id": "b7556a4d-fcdd-456e-9cac-5ec383e5472c",
   "metadata": {},
   "outputs": [
    {
     "data": {
      "text/plain": [
       "(5,)"
      ]
     },
     "execution_count": 69,
     "metadata": {},
     "output_type": "execute_result"
    }
   ],
   "source": [
    "d = np.arange(5)\n",
    "d.shape"
   ]
  },
  {
   "cell_type": "code",
   "execution_count": 71,
   "id": "fcd31c79-0642-41c9-a57a-ef63da59d630",
   "metadata": {},
   "outputs": [
    {
     "data": {
      "text/plain": [
       "(1, 5)"
      ]
     },
     "execution_count": 71,
     "metadata": {},
     "output_type": "execute_result"
    }
   ],
   "source": [
    "newaxis = d[np.newaxis, :] \n",
    "newaxis.shape"
   ]
  },
  {
   "cell_type": "code",
   "execution_count": 72,
   "id": "58186f80-7b07-4a52-bf53-43cd055d1b30",
   "metadata": {},
   "outputs": [
    {
     "data": {
      "text/plain": [
       "(5, 1)"
      ]
     },
     "execution_count": 72,
     "metadata": {},
     "output_type": "execute_result"
    }
   ],
   "source": [
    "anothernewaxis = d[: , np.newaxis] \n",
    "anothernewaxis.shape"
   ]
  },
  {
   "cell_type": "markdown",
   "id": "cb82c474-89c1-47c3-8081-2d21eec586e1",
   "metadata": {},
   "source": [
    "<h3>Indexing and Slicing</h3>"
   ]
  },
  {
   "cell_type": "code",
   "execution_count": 90,
   "id": "69f1f752-0c4a-4570-bdb0-ec19f57d4431",
   "metadata": {},
   "outputs": [
    {
     "data": {
      "text/plain": [
       "array([1, 2])"
      ]
     },
     "execution_count": 90,
     "metadata": {},
     "output_type": "execute_result"
    }
   ],
   "source": [
    "p = np.array([1,2,3,4,5,6,7,8,9])\n",
    "p[0:2]"
   ]
  },
  {
   "cell_type": "code",
   "execution_count": 92,
   "id": "453055ed-9186-4cba-8a84-74f48307a396",
   "metadata": {},
   "outputs": [
    {
     "data": {
      "text/plain": [
       "array([1, 2, 3, 4, 5])"
      ]
     },
     "execution_count": 92,
     "metadata": {},
     "output_type": "execute_result"
    }
   ],
   "source": [
    "p[:5]"
   ]
  },
  {
   "cell_type": "code",
   "execution_count": 93,
   "id": "b1d3177f-7fa3-4bf5-a8fa-c18597325b85",
   "metadata": {},
   "outputs": [
    {
     "data": {
      "text/plain": [
       "array([6, 7, 8, 9])"
      ]
     },
     "execution_count": 93,
     "metadata": {},
     "output_type": "execute_result"
    }
   ],
   "source": [
    "p[5:]"
   ]
  },
  {
   "cell_type": "code",
   "execution_count": 95,
   "id": "e7501147-59e1-43c6-ae55-e7a47f89b2bb",
   "metadata": {},
   "outputs": [
    {
     "data": {
      "text/plain": [
       "array([1, 2, 3, 4, 5, 6, 7])"
      ]
     },
     "execution_count": 95,
     "metadata": {},
     "output_type": "execute_result"
    }
   ],
   "source": [
    "p[:-2]"
   ]
  },
  {
   "cell_type": "code",
   "execution_count": 96,
   "id": "0d2efcfa-b84d-48d4-9c35-b50e8f54e974",
   "metadata": {},
   "outputs": [
    {
     "data": {
      "text/plain": [
       "array([5, 6, 7, 8, 9])"
      ]
     },
     "execution_count": 96,
     "metadata": {},
     "output_type": "execute_result"
    }
   ],
   "source": [
    "p[-5:]"
   ]
  },
  {
   "cell_type": "code",
   "execution_count": null,
   "id": "3553ff8e-d210-45b5-b4d4-64e5ded67b4f",
   "metadata": {},
   "outputs": [],
   "source": []
  }
 ],
 "metadata": {
  "kernelspec": {
   "display_name": "Python 3 (ipykernel)",
   "language": "python",
   "name": "python3"
  },
  "language_info": {
   "codemirror_mode": {
    "name": "ipython",
    "version": 3
   },
   "file_extension": ".py",
   "mimetype": "text/x-python",
   "name": "python",
   "nbconvert_exporter": "python",
   "pygments_lexer": "ipython3",
   "version": "3.12.1"
  }
 },
 "nbformat": 4,
 "nbformat_minor": 5
}
