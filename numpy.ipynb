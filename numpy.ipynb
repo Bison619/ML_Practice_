{
 "cells": [
  {
   "cell_type": "markdown",
   "id": "093bacfc-3bae-4d66-a1ac-44c969c0df05",
   "metadata": {},
   "source": [
    "<h1>Practice for Numpy Lib</h1>"
   ]
  },
  {
   "cell_type": "code",
   "execution_count": 1,
   "id": "c18e70bb-0f8c-463a-8c62-7e01c94b34f4",
   "metadata": {},
   "outputs": [],
   "source": [
    "import numpy as np"
   ]
  },
  {
   "cell_type": "code",
   "execution_count": 39,
   "id": "dd8bd7cf-28dc-4322-8e3e-22d9fbc52fbb",
   "metadata": {},
   "outputs": [
    {
     "data": {
      "text/plain": [
       "array([1., 1., 1., 1., 1.])"
      ]
     },
     "execution_count": 39,
     "metadata": {},
     "output_type": "execute_result"
    }
   ],
   "source": [
    "a = np.array([1,1,1,1,1])\n",
    "b = np.array(a/2)\n",
    "np.ones(5)"
   ]
  },
  {
   "cell_type": "code",
   "execution_count": 40,
   "id": "c74c6547-7218-476a-ac3e-2444127fb3ad",
   "metadata": {},
   "outputs": [
    {
     "data": {
      "text/plain": [
       "7.5"
      ]
     },
     "execution_count": 40,
     "metadata": {},
     "output_type": "execute_result"
    }
   ],
   "source": [
    "np.sum(a+b)"
   ]
  },
  {
   "cell_type": "code",
   "execution_count": 35,
   "id": "c99964ad-4f2e-4a80-bc2d-97f7ffae9288",
   "metadata": {},
   "outputs": [
    {
     "data": {
      "text/plain": [
       "array([5, 7, 9])"
      ]
     },
     "execution_count": 35,
     "metadata": {},
     "output_type": "execute_result"
    }
   ],
   "source": [
    "np.arange(5,10,2)"
   ]
  },
  {
   "cell_type": "code",
   "execution_count": 36,
   "id": "1489c647-ef2b-4f80-b0d3-df1119de3289",
   "metadata": {},
   "outputs": [
    {
     "data": {
      "text/plain": [
       "array([ 0.        ,  2.22222222,  4.44444444,  6.66666667,  8.88888889,\n",
       "       11.11111111, 13.33333333, 15.55555556, 17.77777778, 20.        ])"
      ]
     },
     "execution_count": 36,
     "metadata": {},
     "output_type": "execute_result"
    }
   ],
   "source": [
    "np.linspace(0,20,num=10)"
   ]
  },
  {
   "cell_type": "code",
   "execution_count": 37,
   "id": "c45ffc41-d79e-4e5b-b7bc-d9fd7152a768",
   "metadata": {},
   "outputs": [
    {
     "data": {
      "text/plain": [
       "array([1.30487447e-311, 0.00000000e+000, 6.47591605e-319])"
      ]
     },
     "execution_count": 37,
     "metadata": {},
     "output_type": "execute_result"
    }
   ],
   "source": [
    "np.empty(3)"
   ]
  },
  {
   "cell_type": "code",
   "execution_count": 41,
   "id": "429a8785-ec79-43ba-8bf2-fbc42b3bba9c",
   "metadata": {},
   "outputs": [
    {
     "data": {
      "text/plain": [
       "array([  2,   3,   4,   6,  23,  34,  46,  47,  52,  52,  54,  57, 235,\n",
       "       235, 326, 342, 345, 683])"
      ]
     },
     "execution_count": 41,
     "metadata": {},
     "output_type": "execute_result"
    }
   ],
   "source": [
    "c = np.array([2,34,52,326,46,345,23,235,6,57,683,54,52,342,4,235,47,3])\n",
    "np.sort(c)"
   ]
  },
  {
   "cell_type": "code",
   "execution_count": null,
   "id": "a68869f5-ca9b-4e2e-9b4f-776f8193db79",
   "metadata": {},
   "outputs": [],
   "source": []
  }
 ],
 "metadata": {
  "kernelspec": {
   "display_name": "Python 3 (ipykernel)",
   "language": "python",
   "name": "python3"
  },
  "language_info": {
   "codemirror_mode": {
    "name": "ipython",
    "version": 3
   },
   "file_extension": ".py",
   "mimetype": "text/x-python",
   "name": "python",
   "nbconvert_exporter": "python",
   "pygments_lexer": "ipython3",
   "version": "3.12.1"
  }
 },
 "nbformat": 4,
 "nbformat_minor": 5
}
