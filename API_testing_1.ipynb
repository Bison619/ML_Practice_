{
 "cells": [
  {
   "cell_type": "code",
   "execution_count": null,
   "id": "a10f57b7-f085-4ec2-a308-c9280f12be6a",
   "metadata": {},
   "outputs": [],
   "source": [
    "import kaggle as kg\n",
    "import zipfile\n",
    "import panda as pd"
   ]
  },
  {
   "cell_type": "code",
   "execution_count": null,
   "id": "1a5e3056-b43c-41b9-9011-c7890b614e21",
   "metadata": {},
   "outputs": [],
   "source": [
    "from kaggle.api.kaggle_api_extended import KaggleApi"
   ]
  },
  {
   "cell_type": "code",
   "execution_count": null,
   "id": "23896eea-e32f-4f91-a67c-f6ae23faf54b",
   "metadata": {},
   "outputs": [],
   "source": [
    "api = KaggleApi()"
   ]
  },
  {
   "cell_type": "code",
   "execution_count": null,
   "id": "c83120d0-8717-4395-9fe5-cf4a02baed88",
   "metadata": {},
   "outputs": [],
   "source": [
    "api.authenticate()"
   ]
  },
  {
   "cell_type": "code",
   "execution_count": null,
   "id": "6c8ca05c-744e-45c9-958d-1801bc7ff665",
   "metadata": {},
   "outputs": [],
   "source": [
    "data = 'muhammad0subhan/fruit-and-vegetable-disease-healthy-vs-rotten'"
   ]
  },
  {
   "cell_type": "code",
   "execution_count": null,
   "id": "443b657b-2f29-448e-a11c-8a9668c8734c",
   "metadata": {},
   "outputs": [],
   "source": [
    "api.dataset_download_files(data,path= '.', unzip=True)"
   ]
  },
  {
   "cell_type": "code",
   "execution_count": null,
   "id": "bb3a9ce0-e307-4126-826b-78bae2bb2a5f",
   "metadata": {},
   "outputs": [],
   "source": []
  }
 ],
 "metadata": {
  "kernelspec": {
   "display_name": "Python 3 (ipykernel)",
   "language": "python",
   "name": "python3"
  },
  "language_info": {
   "codemirror_mode": {
    "name": "ipython",
    "version": 3
   },
   "file_extension": ".py",
   "mimetype": "text/x-python",
   "name": "python",
   "nbconvert_exporter": "python",
   "pygments_lexer": "ipython3",
   "version": "3.12.1"
  }
 },
 "nbformat": 4,
 "nbformat_minor": 5
}
